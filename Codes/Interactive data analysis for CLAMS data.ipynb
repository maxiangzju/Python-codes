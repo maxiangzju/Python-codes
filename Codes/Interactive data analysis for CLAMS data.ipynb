{
 "cells": [
  {
   "cell_type": "markdown",
   "metadata": {},
   "source": [
    "#### Use glob to get the files list"
   ]
  },
  {
   "cell_type": "code",
   "execution_count": 2,
   "metadata": {},
   "outputs": [
    {
     "name": "stdout",
     "output_type": "stream",
     "text": [
      "C:\\Users\\Ma\\PY\\Pandas\\CLAMS\n"
     ]
    }
   ],
   "source": [
    "cd CLAMS/"
   ]
  },
  {
   "cell_type": "code",
   "execution_count": 3,
   "metadata": {},
   "outputs": [],
   "source": [
    "import glob\n",
    "import re\n",
    "import pandas as pd\n",
    "import numpy as np\n",
    "import matplotlib.pyplot as plt\n",
    "%matplotlib inline"
   ]
  },
  {
   "cell_type": "code",
   "execution_count": 4,
   "metadata": {},
   "outputs": [
    {
     "data": {
      "text/plain": [
       "['2018-04-09.0101.CSV',\n",
       " '2018-04-09.0102.CSV',\n",
       " '2018-04-09.0103.CSV',\n",
       " '2018-04-09.0104.CSV',\n",
       " '2018-04-09.0105.CSV',\n",
       " '2018-04-09.0106.CSV',\n",
       " '2018-04-09.0111.CSV',\n",
       " '2018-04-09.0112.CSV',\n",
       " '2018-04-09.0113.CSV',\n",
       " '2018-04-09.0114.CSV',\n",
       " '2018-04-09.0115.CSV',\n",
       " '2018-04-09.0116.CSV']"
      ]
     },
     "execution_count": 4,
     "metadata": {},
     "output_type": "execute_result"
    }
   ],
   "source": [
    "files = glob.glob('2018*.csv')\n",
    "files"
   ]
  },
  {
   "cell_type": "markdown",
   "metadata": {},
   "source": [
    "#### Extract and store sample name, chamber, and genotype to a dataframe"
   ]
  },
  {
   "cell_type": "code",
   "execution_count": 18,
   "metadata": {},
   "outputs": [],
   "source": [
    "sample_info = pd.DataFrame(columns=['cage', 'mouse_id', 'mass'], dtype=np.float64)\n",
    "\n",
    "for f in files:\n",
    "    content = open(f).read()\n",
    "    cage = re.findall('Group\\/Cage\\D+([0-9]+)\\n', content)[0]\n",
    "    mouse_id = re.findall('Subject ID\\D+([0-9]+)\\n', content)[0]\n",
    "    mass = re.findall('Subject Mass\\D+([0-9.]+)', content)[0]\n",
    "    \n",
    "    #Creat a temporal dataframe for new sample and append it to sampel_info dataframe\n",
    "    new = pd.DataFrame({'cage': cage, 'mouse_id': mouse_id,'mass': float(mass) }, index=['info'])\n",
    "    sample_info = sample_info.append(new, ignore_index=True)"
   ]
  },
  {
   "cell_type": "code",
   "execution_count": 19,
   "metadata": {},
   "outputs": [],
   "source": [
    "#define a mapping function to determine genotype\n",
    "def genotyping(mouse):\n",
    "    if mouse in ['1399','1390','1403','1377','1386','1373']: \n",
    "        return 'WT'\n",
    "    if mouse in ['1375','1400','1391','1392','1417','1433']:\n",
    "        return 'KO'"
   ]
  },
  {
   "cell_type": "code",
   "execution_count": 20,
   "metadata": {},
   "outputs": [
    {
     "data": {
      "text/html": [
       "<div>\n",
       "<style scoped>\n",
       "    .dataframe tbody tr th:only-of-type {\n",
       "        vertical-align: middle;\n",
       "    }\n",
       "\n",
       "    .dataframe tbody tr th {\n",
       "        vertical-align: top;\n",
       "    }\n",
       "\n",
       "    .dataframe thead th {\n",
       "        text-align: right;\n",
       "    }\n",
       "</style>\n",
       "<table border=\"1\" class=\"dataframe\">\n",
       "  <thead>\n",
       "    <tr style=\"text-align: right;\">\n",
       "      <th></th>\n",
       "      <th>cage</th>\n",
       "      <th>mouse_id</th>\n",
       "      <th>mass</th>\n",
       "      <th>genotype</th>\n",
       "    </tr>\n",
       "  </thead>\n",
       "  <tbody>\n",
       "    <tr>\n",
       "      <th>0</th>\n",
       "      <td>0101</td>\n",
       "      <td>1403</td>\n",
       "      <td>49.30</td>\n",
       "      <td>WT</td>\n",
       "    </tr>\n",
       "    <tr>\n",
       "      <th>1</th>\n",
       "      <td>0102</td>\n",
       "      <td>1375</td>\n",
       "      <td>42.25</td>\n",
       "      <td>KO</td>\n",
       "    </tr>\n",
       "    <tr>\n",
       "      <th>2</th>\n",
       "      <td>0103</td>\n",
       "      <td>1399</td>\n",
       "      <td>42.40</td>\n",
       "      <td>WT</td>\n",
       "    </tr>\n",
       "    <tr>\n",
       "      <th>3</th>\n",
       "      <td>0104</td>\n",
       "      <td>1391</td>\n",
       "      <td>40.78</td>\n",
       "      <td>KO</td>\n",
       "    </tr>\n",
       "    <tr>\n",
       "      <th>4</th>\n",
       "      <td>0105</td>\n",
       "      <td>1377</td>\n",
       "      <td>46.80</td>\n",
       "      <td>WT</td>\n",
       "    </tr>\n",
       "    <tr>\n",
       "      <th>5</th>\n",
       "      <td>0106</td>\n",
       "      <td>1392</td>\n",
       "      <td>35.40</td>\n",
       "      <td>KO</td>\n",
       "    </tr>\n",
       "    <tr>\n",
       "      <th>6</th>\n",
       "      <td>0111</td>\n",
       "      <td>1386</td>\n",
       "      <td>48.39</td>\n",
       "      <td>WT</td>\n",
       "    </tr>\n",
       "    <tr>\n",
       "      <th>7</th>\n",
       "      <td>0112</td>\n",
       "      <td>1400</td>\n",
       "      <td>43.81</td>\n",
       "      <td>KO</td>\n",
       "    </tr>\n",
       "    <tr>\n",
       "      <th>8</th>\n",
       "      <td>0113</td>\n",
       "      <td>1390</td>\n",
       "      <td>41.75</td>\n",
       "      <td>WT</td>\n",
       "    </tr>\n",
       "    <tr>\n",
       "      <th>9</th>\n",
       "      <td>0114</td>\n",
       "      <td>1417</td>\n",
       "      <td>31.29</td>\n",
       "      <td>KO</td>\n",
       "    </tr>\n",
       "    <tr>\n",
       "      <th>10</th>\n",
       "      <td>0115</td>\n",
       "      <td>1373</td>\n",
       "      <td>46.95</td>\n",
       "      <td>WT</td>\n",
       "    </tr>\n",
       "    <tr>\n",
       "      <th>11</th>\n",
       "      <td>0116</td>\n",
       "      <td>1433</td>\n",
       "      <td>33.20</td>\n",
       "      <td>KO</td>\n",
       "    </tr>\n",
       "  </tbody>\n",
       "</table>\n",
       "</div>"
      ],
      "text/plain": [
       "    cage mouse_id   mass genotype\n",
       "0   0101     1403  49.30       WT\n",
       "1   0102     1375  42.25       KO\n",
       "2   0103     1399  42.40       WT\n",
       "3   0104     1391  40.78       KO\n",
       "4   0105     1377  46.80       WT\n",
       "5   0106     1392  35.40       KO\n",
       "6   0111     1386  48.39       WT\n",
       "7   0112     1400  43.81       KO\n",
       "8   0113     1390  41.75       WT\n",
       "9   0114     1417  31.29       KO\n",
       "10  0115     1373  46.95       WT\n",
       "11  0116     1433  33.20       KO"
      ]
     },
     "execution_count": 20,
     "metadata": {},
     "output_type": "execute_result"
    }
   ],
   "source": [
    "sample_info['genotype'] = sample_info['mouse_id'].map(genotyping)\n",
    "sample_info"
   ]
  },
  {
   "cell_type": "markdown",
   "metadata": {},
   "source": [
    "#### Read CLAMS csv and concat them into a dataframe"
   ]
  },
  {
   "cell_type": "code",
   "execution_count": 21,
   "metadata": {},
   "outputs": [
    {
     "data": {
      "text/plain": [
       "INTERVAL                      object\n",
       "CHAN                          object\n",
       "DATE/TIME             datetime64[ns]\n",
       "VO2                          float64\n",
       "O2IN                         float64\n",
       "O2OUT                        float64\n",
       "DO2                          float64\n",
       "ACCO2                        float64\n",
       "VCO2                         float64\n",
       "CO2IN                        float64\n",
       "CO2OUT                       float64\n",
       "DCO2                         float64\n",
       "ACCCO2                       float64\n",
       "RER                          float64\n",
       "HEAT                         float64\n",
       "FLOW                         float64\n",
       "STATUS1                       object\n",
       "FEED1                        float64\n",
       "FEED1 ACC                    float64\n",
       "XTOT                         float64\n",
       "XAMB                         float64\n",
       "YTOT                         float64\n",
       "YAMB                         float64\n",
       "ZTOT                         float64\n",
       "ENCLOSURE TEMP               float64\n",
       "ENCLOSURE SETPOINT           float64\n",
       "Unnamed: 26                  float64\n",
       "dtype: object"
      ]
     },
     "execution_count": 21,
     "metadata": {},
     "output_type": "execute_result"
    }
   ],
   "source": [
    "#read csv with date_parser and skip descriptional data\n",
    "#nrow: the rows to be read, \n",
    "#316 (total rows with valid data in each sample) - 24 (skipped rows) -1 (header)\n",
    "csv_list = []\n",
    "for csv in files:\n",
    "    csv = pd.read_csv(csv,  \n",
    "                  skiprows=([i for i in range(22)] + [23,24]), parse_dates=['DATE/TIME'],\n",
    "                  dtype={'CHAN': str, 'VO2': np.float64, 'VCO2': np.float64})\n",
    "    csv_list.append(csv)\n",
    "df = pd.concat(csv_list, ignore_index=True)\n",
    "df.dtypes"
   ]
  },
  {
   "cell_type": "code",
   "execution_count": 22,
   "metadata": {},
   "outputs": [
    {
     "data": {
      "text/plain": [
       "CHAN\n",
       "0101    292\n",
       "0102    292\n",
       "0103    292\n",
       "0104    292\n",
       "0105    292\n",
       "0106    292\n",
       "0111    292\n",
       "0112    292\n",
       "0113    292\n",
       "0114    292\n",
       "0115    292\n",
       "0116    292\n",
       "dtype: int64"
      ]
     },
     "execution_count": 22,
     "metadata": {},
     "output_type": "execute_result"
    }
   ],
   "source": [
    "df.groupby('CHAN').size()"
   ]
  },
  {
   "cell_type": "markdown",
   "metadata": {},
   "source": [
    "#### Data Cleaning"
   ]
  },
  {
   "cell_type": "code",
   "execution_count": 23,
   "metadata": {},
   "outputs": [],
   "source": [
    "df.dropna(subset=['DATE/TIME'], inplace=True)"
   ]
  },
  {
   "cell_type": "code",
   "execution_count": 24,
   "metadata": {},
   "outputs": [],
   "source": [
    "df = df[df.VO2 != 0]"
   ]
  },
  {
   "cell_type": "code",
   "execution_count": 25,
   "metadata": {},
   "outputs": [
    {
     "data": {
      "text/plain": [
       "CHAN\n",
       "0101    292\n",
       "0102    292\n",
       "0103    292\n",
       "0104    291\n",
       "0105    291\n",
       "0106    291\n",
       "0111    291\n",
       "0112    291\n",
       "0113    291\n",
       "0114    291\n",
       "0115    291\n",
       "0116    291\n",
       "dtype: int64"
      ]
     },
     "execution_count": 25,
     "metadata": {},
     "output_type": "execute_result"
    }
   ],
   "source": [
    "df.groupby('CHAN').size()"
   ]
  },
  {
   "cell_type": "markdown",
   "metadata": {},
   "source": [
    "#### Down-size dataframe to only include VO2 and VCO2, the two columns to be analyzed"
   ]
  },
  {
   "cell_type": "code",
   "execution_count": 26,
   "metadata": {},
   "outputs": [
    {
     "data": {
      "text/html": [
       "<div>\n",
       "<style scoped>\n",
       "    .dataframe tbody tr th:only-of-type {\n",
       "        vertical-align: middle;\n",
       "    }\n",
       "\n",
       "    .dataframe tbody tr th {\n",
       "        vertical-align: top;\n",
       "    }\n",
       "\n",
       "    .dataframe thead th {\n",
       "        text-align: right;\n",
       "    }\n",
       "</style>\n",
       "<table border=\"1\" class=\"dataframe\">\n",
       "  <thead>\n",
       "    <tr style=\"text-align: right;\">\n",
       "      <th></th>\n",
       "      <th>interval</th>\n",
       "      <th>cage</th>\n",
       "      <th>date</th>\n",
       "      <th>VO2</th>\n",
       "      <th>VCO2</th>\n",
       "    </tr>\n",
       "  </thead>\n",
       "  <tbody>\n",
       "    <tr>\n",
       "      <th>0</th>\n",
       "      <td>1</td>\n",
       "      <td>0101</td>\n",
       "      <td>2018-04-09 16:33:45</td>\n",
       "      <td>2911.0</td>\n",
       "      <td>2207.0</td>\n",
       "    </tr>\n",
       "    <tr>\n",
       "      <th>1</th>\n",
       "      <td>2</td>\n",
       "      <td>0101</td>\n",
       "      <td>2018-04-09 16:46:45</td>\n",
       "      <td>2557.0</td>\n",
       "      <td>1928.0</td>\n",
       "    </tr>\n",
       "    <tr>\n",
       "      <th>2</th>\n",
       "      <td>3</td>\n",
       "      <td>0101</td>\n",
       "      <td>2018-04-09 17:00:45</td>\n",
       "      <td>3085.0</td>\n",
       "      <td>2362.0</td>\n",
       "    </tr>\n",
       "    <tr>\n",
       "      <th>3</th>\n",
       "      <td>4</td>\n",
       "      <td>0101</td>\n",
       "      <td>2018-04-09 17:13:45</td>\n",
       "      <td>2745.0</td>\n",
       "      <td>2121.0</td>\n",
       "    </tr>\n",
       "    <tr>\n",
       "      <th>4</th>\n",
       "      <td>5</td>\n",
       "      <td>0101</td>\n",
       "      <td>2018-04-09 17:27:45</td>\n",
       "      <td>1756.0</td>\n",
       "      <td>1306.0</td>\n",
       "    </tr>\n",
       "  </tbody>\n",
       "</table>\n",
       "</div>"
      ],
      "text/plain": [
       "  interval  cage                date     VO2    VCO2\n",
       "0        1  0101 2018-04-09 16:33:45  2911.0  2207.0\n",
       "1        2  0101 2018-04-09 16:46:45  2557.0  1928.0\n",
       "2        3  0101 2018-04-09 17:00:45  3085.0  2362.0\n",
       "3        4  0101 2018-04-09 17:13:45  2745.0  2121.0\n",
       "4        5  0101 2018-04-09 17:27:45  1756.0  1306.0"
      ]
     },
     "execution_count": 26,
     "metadata": {},
     "output_type": "execute_result"
    }
   ],
   "source": [
    "df = df[['INTERVAL', 'CHAN', 'DATE/TIME', 'VO2', 'VCO2']]\n",
    "df = df.rename(columns={'INTERVAL':'interval','CHAN':'cage','DATE/TIME':'date'})\n",
    "df.head()"
   ]
  },
  {
   "cell_type": "markdown",
   "metadata": {},
   "source": [
    "#### Merge sample_info and df together"
   ]
  },
  {
   "cell_type": "code",
   "execution_count": 27,
   "metadata": {},
   "outputs": [
    {
     "data": {
      "text/html": [
       "<div>\n",
       "<style scoped>\n",
       "    .dataframe tbody tr th:only-of-type {\n",
       "        vertical-align: middle;\n",
       "    }\n",
       "\n",
       "    .dataframe tbody tr th {\n",
       "        vertical-align: top;\n",
       "    }\n",
       "\n",
       "    .dataframe thead th {\n",
       "        text-align: right;\n",
       "    }\n",
       "</style>\n",
       "<table border=\"1\" class=\"dataframe\">\n",
       "  <thead>\n",
       "    <tr style=\"text-align: right;\">\n",
       "      <th></th>\n",
       "      <th>interval</th>\n",
       "      <th>cage</th>\n",
       "      <th>date</th>\n",
       "      <th>VO2</th>\n",
       "      <th>VCO2</th>\n",
       "      <th>mouse_id</th>\n",
       "      <th>mass</th>\n",
       "      <th>genotype</th>\n",
       "    </tr>\n",
       "  </thead>\n",
       "  <tbody>\n",
       "    <tr>\n",
       "      <th>3490</th>\n",
       "      <td>287</td>\n",
       "      <td>0116</td>\n",
       "      <td>2018-04-12 09:06:45</td>\n",
       "      <td>2904.0</td>\n",
       "      <td>2332.0</td>\n",
       "      <td>1433</td>\n",
       "      <td>33.2</td>\n",
       "      <td>KO</td>\n",
       "    </tr>\n",
       "    <tr>\n",
       "      <th>3491</th>\n",
       "      <td>288</td>\n",
       "      <td>0116</td>\n",
       "      <td>2018-04-12 09:19:45</td>\n",
       "      <td>3100.0</td>\n",
       "      <td>2640.0</td>\n",
       "      <td>1433</td>\n",
       "      <td>33.2</td>\n",
       "      <td>KO</td>\n",
       "    </tr>\n",
       "    <tr>\n",
       "      <th>3492</th>\n",
       "      <td>289</td>\n",
       "      <td>0116</td>\n",
       "      <td>2018-04-12 09:33:45</td>\n",
       "      <td>2154.0</td>\n",
       "      <td>1783.0</td>\n",
       "      <td>1433</td>\n",
       "      <td>33.2</td>\n",
       "      <td>KO</td>\n",
       "    </tr>\n",
       "    <tr>\n",
       "      <th>3493</th>\n",
       "      <td>290</td>\n",
       "      <td>0116</td>\n",
       "      <td>2018-04-12 09:46:45</td>\n",
       "      <td>2421.0</td>\n",
       "      <td>1965.0</td>\n",
       "      <td>1433</td>\n",
       "      <td>33.2</td>\n",
       "      <td>KO</td>\n",
       "    </tr>\n",
       "    <tr>\n",
       "      <th>3494</th>\n",
       "      <td>291</td>\n",
       "      <td>0116</td>\n",
       "      <td>2018-04-12 10:00:45</td>\n",
       "      <td>2622.0</td>\n",
       "      <td>2005.0</td>\n",
       "      <td>1433</td>\n",
       "      <td>33.2</td>\n",
       "      <td>KO</td>\n",
       "    </tr>\n",
       "  </tbody>\n",
       "</table>\n",
       "</div>"
      ],
      "text/plain": [
       "     interval  cage                date     VO2    VCO2 mouse_id  mass  \\\n",
       "3490      287  0116 2018-04-12 09:06:45  2904.0  2332.0     1433  33.2   \n",
       "3491      288  0116 2018-04-12 09:19:45  3100.0  2640.0     1433  33.2   \n",
       "3492      289  0116 2018-04-12 09:33:45  2154.0  1783.0     1433  33.2   \n",
       "3493      290  0116 2018-04-12 09:46:45  2421.0  1965.0     1433  33.2   \n",
       "3494      291  0116 2018-04-12 10:00:45  2622.0  2005.0     1433  33.2   \n",
       "\n",
       "     genotype  \n",
       "3490       KO  \n",
       "3491       KO  \n",
       "3492       KO  \n",
       "3493       KO  \n",
       "3494       KO  "
      ]
     },
     "execution_count": 27,
     "metadata": {},
     "output_type": "execute_result"
    }
   ],
   "source": [
    "mdf = pd.merge(df, sample_info, on='cage')\n",
    "mdf.tail()"
   ]
  },
  {
   "cell_type": "markdown",
   "metadata": {},
   "source": [
    "#### Add timedelta column"
   ]
  },
  {
   "cell_type": "code",
   "execution_count": 28,
   "metadata": {},
   "outputs": [],
   "source": [
    "def timedelta(group):\n",
    "    for i in group:\n",
    "        return group-i"
   ]
  },
  {
   "cell_type": "code",
   "execution_count": 29,
   "metadata": {},
   "outputs": [],
   "source": [
    "mdf['time_hr'] = mdf.groupby('mouse_id').date.apply(timedelta) "
   ]
  },
  {
   "cell_type": "code",
   "execution_count": 30,
   "metadata": {},
   "outputs": [
    {
     "data": {
      "text/html": [
       "<div>\n",
       "<style scoped>\n",
       "    .dataframe tbody tr th:only-of-type {\n",
       "        vertical-align: middle;\n",
       "    }\n",
       "\n",
       "    .dataframe tbody tr th {\n",
       "        vertical-align: top;\n",
       "    }\n",
       "\n",
       "    .dataframe thead th {\n",
       "        text-align: right;\n",
       "    }\n",
       "</style>\n",
       "<table border=\"1\" class=\"dataframe\">\n",
       "  <thead>\n",
       "    <tr style=\"text-align: right;\">\n",
       "      <th></th>\n",
       "      <th>interval</th>\n",
       "      <th>cage</th>\n",
       "      <th>date</th>\n",
       "      <th>VO2</th>\n",
       "      <th>VCO2</th>\n",
       "      <th>mouse_id</th>\n",
       "      <th>mass</th>\n",
       "      <th>genotype</th>\n",
       "      <th>time_hr</th>\n",
       "    </tr>\n",
       "  </thead>\n",
       "  <tbody>\n",
       "    <tr>\n",
       "      <th>3490</th>\n",
       "      <td>287</td>\n",
       "      <td>0116</td>\n",
       "      <td>2018-04-12 09:06:45</td>\n",
       "      <td>2904.0</td>\n",
       "      <td>2332.0</td>\n",
       "      <td>1433</td>\n",
       "      <td>33.2</td>\n",
       "      <td>KO</td>\n",
       "      <td>2 days 16:21:00</td>\n",
       "    </tr>\n",
       "    <tr>\n",
       "      <th>3491</th>\n",
       "      <td>288</td>\n",
       "      <td>0116</td>\n",
       "      <td>2018-04-12 09:19:45</td>\n",
       "      <td>3100.0</td>\n",
       "      <td>2640.0</td>\n",
       "      <td>1433</td>\n",
       "      <td>33.2</td>\n",
       "      <td>KO</td>\n",
       "      <td>2 days 16:34:00</td>\n",
       "    </tr>\n",
       "    <tr>\n",
       "      <th>3492</th>\n",
       "      <td>289</td>\n",
       "      <td>0116</td>\n",
       "      <td>2018-04-12 09:33:45</td>\n",
       "      <td>2154.0</td>\n",
       "      <td>1783.0</td>\n",
       "      <td>1433</td>\n",
       "      <td>33.2</td>\n",
       "      <td>KO</td>\n",
       "      <td>2 days 16:48:00</td>\n",
       "    </tr>\n",
       "    <tr>\n",
       "      <th>3493</th>\n",
       "      <td>290</td>\n",
       "      <td>0116</td>\n",
       "      <td>2018-04-12 09:46:45</td>\n",
       "      <td>2421.0</td>\n",
       "      <td>1965.0</td>\n",
       "      <td>1433</td>\n",
       "      <td>33.2</td>\n",
       "      <td>KO</td>\n",
       "      <td>2 days 17:01:00</td>\n",
       "    </tr>\n",
       "    <tr>\n",
       "      <th>3494</th>\n",
       "      <td>291</td>\n",
       "      <td>0116</td>\n",
       "      <td>2018-04-12 10:00:45</td>\n",
       "      <td>2622.0</td>\n",
       "      <td>2005.0</td>\n",
       "      <td>1433</td>\n",
       "      <td>33.2</td>\n",
       "      <td>KO</td>\n",
       "      <td>2 days 17:15:00</td>\n",
       "    </tr>\n",
       "  </tbody>\n",
       "</table>\n",
       "</div>"
      ],
      "text/plain": [
       "     interval  cage                date     VO2    VCO2 mouse_id  mass  \\\n",
       "3490      287  0116 2018-04-12 09:06:45  2904.0  2332.0     1433  33.2   \n",
       "3491      288  0116 2018-04-12 09:19:45  3100.0  2640.0     1433  33.2   \n",
       "3492      289  0116 2018-04-12 09:33:45  2154.0  1783.0     1433  33.2   \n",
       "3493      290  0116 2018-04-12 09:46:45  2421.0  1965.0     1433  33.2   \n",
       "3494      291  0116 2018-04-12 10:00:45  2622.0  2005.0     1433  33.2   \n",
       "\n",
       "     genotype         time_hr  \n",
       "3490       KO 2 days 16:21:00  \n",
       "3491       KO 2 days 16:34:00  \n",
       "3492       KO 2 days 16:48:00  \n",
       "3493       KO 2 days 17:01:00  \n",
       "3494       KO 2 days 17:15:00  "
      ]
     },
     "execution_count": 30,
     "metadata": {},
     "output_type": "execute_result"
    }
   ],
   "source": [
    "mdf.tail()"
   ]
  },
  {
   "cell_type": "markdown",
   "metadata": {},
   "source": [
    "#### Time series resampling with freqency 'Hr'"
   ]
  },
  {
   "cell_type": "code",
   "execution_count": 31,
   "metadata": {},
   "outputs": [],
   "source": [
    "time_key = pd.Grouper(freq='H')\n",
    "\n",
    "result = mdf.set_index('time_hr').groupby(['genotype', time_key]).mean()\n",
    "\n",
    "result.reset_index(inplace=True)\n",
    "\n",
    "result['time_hr'] = result['time_hr'] // np.timedelta64(1, 'h')"
   ]
  },
  {
   "cell_type": "code",
   "execution_count": 32,
   "metadata": {},
   "outputs": [
    {
     "data": {
      "text/html": [
       "<div>\n",
       "<style scoped>\n",
       "    .dataframe tbody tr th:only-of-type {\n",
       "        vertical-align: middle;\n",
       "    }\n",
       "\n",
       "    .dataframe tbody tr th {\n",
       "        vertical-align: top;\n",
       "    }\n",
       "\n",
       "    .dataframe thead th {\n",
       "        text-align: right;\n",
       "    }\n",
       "</style>\n",
       "<table border=\"1\" class=\"dataframe\">\n",
       "  <thead>\n",
       "    <tr style=\"text-align: right;\">\n",
       "      <th></th>\n",
       "      <th>genotype</th>\n",
       "      <th>time_hr</th>\n",
       "      <th>VO2</th>\n",
       "      <th>VCO2</th>\n",
       "      <th>mass</th>\n",
       "    </tr>\n",
       "  </thead>\n",
       "  <tbody>\n",
       "    <tr>\n",
       "      <th>127</th>\n",
       "      <td>WT</td>\n",
       "      <td>61</td>\n",
       "      <td>2482.916667</td>\n",
       "      <td>1917.708333</td>\n",
       "      <td>45.931667</td>\n",
       "    </tr>\n",
       "    <tr>\n",
       "      <th>128</th>\n",
       "      <td>WT</td>\n",
       "      <td>62</td>\n",
       "      <td>2691.708333</td>\n",
       "      <td>2074.458333</td>\n",
       "      <td>45.931667</td>\n",
       "    </tr>\n",
       "    <tr>\n",
       "      <th>129</th>\n",
       "      <td>WT</td>\n",
       "      <td>63</td>\n",
       "      <td>2354.500000</td>\n",
       "      <td>1803.466667</td>\n",
       "      <td>45.931667</td>\n",
       "    </tr>\n",
       "    <tr>\n",
       "      <th>130</th>\n",
       "      <td>WT</td>\n",
       "      <td>64</td>\n",
       "      <td>2039.583333</td>\n",
       "      <td>1549.666667</td>\n",
       "      <td>45.931667</td>\n",
       "    </tr>\n",
       "    <tr>\n",
       "      <th>131</th>\n",
       "      <td>WT</td>\n",
       "      <td>65</td>\n",
       "      <td>2122.785714</td>\n",
       "      <td>1635.357143</td>\n",
       "      <td>45.920000</td>\n",
       "    </tr>\n",
       "  </tbody>\n",
       "</table>\n",
       "</div>"
      ],
      "text/plain": [
       "    genotype  time_hr          VO2         VCO2       mass\n",
       "127       WT       61  2482.916667  1917.708333  45.931667\n",
       "128       WT       62  2691.708333  2074.458333  45.931667\n",
       "129       WT       63  2354.500000  1803.466667  45.931667\n",
       "130       WT       64  2039.583333  1549.666667  45.931667\n",
       "131       WT       65  2122.785714  1635.357143  45.920000"
      ]
     },
     "execution_count": 32,
     "metadata": {},
     "output_type": "execute_result"
    }
   ],
   "source": [
    "result.tail()"
   ]
  },
  {
   "cell_type": "markdown",
   "metadata": {},
   "source": [
    "#### Plotting"
   ]
  },
  {
   "cell_type": "code",
   "execution_count": 33,
   "metadata": {},
   "outputs": [
    {
     "data": {
      "text/plain": [
       "<matplotlib.axes._subplots.AxesSubplot at 0x200f0e20e80>"
      ]
     },
     "execution_count": 33,
     "metadata": {},
     "output_type": "execute_result"
    },
    {
     "data": {
      "image/png": "[encoded data removed]",
      "text/plain": [
       "<Figure size 432x288 with 1 Axes>"
      ]
     },
     "metadata": {
      "needs_background": "light"
     },
     "output_type": "display_data"
    }
   ],
   "source": [
    "result.pivot_table(index='time_hr', columns='genotype', values='VO2').plot()"
   ]
  },
  {
   "cell_type": "markdown",
   "metadata": {},
   "source": [
    "#### Fine tuning time window"
   ]
  },
  {
   "cell_type": "code",
   "execution_count": 34,
   "metadata": {},
   "outputs": [],
   "source": [
    "def subset(group, head, tail):\n",
    "    group = group[head+1:][:-tail]\n",
    "    group['time_hr'] -= group['time_hr'].values[0]\n",
    "    return group"
   ]
  },
  {
   "cell_type": "code",
   "execution_count": 35,
   "metadata": {},
   "outputs": [
    {
     "data": {
      "text/html": [
       "<div>\n",
       "<style scoped>\n",
       "    .dataframe tbody tr th:only-of-type {\n",
       "        vertical-align: middle;\n",
       "    }\n",
       "\n",
       "    .dataframe tbody tr th {\n",
       "        vertical-align: top;\n",
       "    }\n",
       "\n",
       "    .dataframe thead th {\n",
       "        text-align: right;\n",
       "    }\n",
       "</style>\n",
       "<table border=\"1\" class=\"dataframe\">\n",
       "  <thead>\n",
       "    <tr style=\"text-align: right;\">\n",
       "      <th></th>\n",
       "      <th>genotype</th>\n",
       "      <th>time_hr</th>\n",
       "      <th>VO2</th>\n",
       "      <th>VCO2</th>\n",
       "      <th>mass</th>\n",
       "    </tr>\n",
       "  </thead>\n",
       "  <tbody>\n",
       "    <tr>\n",
       "      <th>5</th>\n",
       "      <td>KO</td>\n",
       "      <td>0</td>\n",
       "      <td>3380.416667</td>\n",
       "      <td>2569.666667</td>\n",
       "      <td>37.788333</td>\n",
       "    </tr>\n",
       "    <tr>\n",
       "      <th>6</th>\n",
       "      <td>KO</td>\n",
       "      <td>1</td>\n",
       "      <td>3039.533333</td>\n",
       "      <td>2283.433333</td>\n",
       "      <td>37.788333</td>\n",
       "    </tr>\n",
       "    <tr>\n",
       "      <th>7</th>\n",
       "      <td>KO</td>\n",
       "      <td>2</td>\n",
       "      <td>2929.375000</td>\n",
       "      <td>2232.875000</td>\n",
       "      <td>37.788333</td>\n",
       "    </tr>\n",
       "    <tr>\n",
       "      <th>8</th>\n",
       "      <td>KO</td>\n",
       "      <td>3</td>\n",
       "      <td>2757.208333</td>\n",
       "      <td>2105.458333</td>\n",
       "      <td>37.788333</td>\n",
       "    </tr>\n",
       "    <tr>\n",
       "      <th>9</th>\n",
       "      <td>KO</td>\n",
       "      <td>4</td>\n",
       "      <td>2672.933333</td>\n",
       "      <td>2012.233333</td>\n",
       "      <td>37.788333</td>\n",
       "    </tr>\n",
       "  </tbody>\n",
       "</table>\n",
       "</div>"
      ],
      "text/plain": [
       "  genotype  time_hr          VO2         VCO2       mass\n",
       "5       KO        0  3380.416667  2569.666667  37.788333\n",
       "6       KO        1  3039.533333  2283.433333  37.788333\n",
       "7       KO        2  2929.375000  2232.875000  37.788333\n",
       "8       KO        3  2757.208333  2105.458333  37.788333\n",
       "9       KO        4  2672.933333  2012.233333  37.788333"
      ]
     },
     "execution_count": 35,
     "metadata": {},
     "output_type": "execute_result"
    }
   ],
   "source": [
    "truc_result = result.groupby('genotype', group_keys=False).apply(subset, head=4, tail=2)\n",
    "truc_result.head()"
   ]
  },
  {
   "cell_type": "code",
   "execution_count": 36,
   "metadata": {},
   "outputs": [
    {
     "data": {
      "text/plain": [
       "<matplotlib.axes._subplots.AxesSubplot at 0x200f2f1fd68>"
      ]
     },
     "execution_count": 36,
     "metadata": {},
     "output_type": "execute_result"
    },
    {
     "data": {
      "image/png": "[encoded data removed]",
      "text/plain": [
       "<Figure size 432x288 with 1 Axes>"
      ]
     },
     "metadata": {
      "needs_background": "light"
     },
     "output_type": "display_data"
    }
   ],
   "source": [
    "truc_result.pivot_table(index='time_hr', columns='genotype',values='VO2').plot()"
   ]
  },
  {
   "cell_type": "code",
   "execution_count": null,
   "metadata": {},
   "outputs": [],
   "source": []
  }
 ],
 "metadata": {
  "kernelspec": {
   "display_name": "Python 3",
   "language": "python",
   "name": "python3"
  },
  "language_info": {
   "codemirror_mode": {
    "name": "ipython",
    "version": 3
   },
   "file_extension": ".py",
   "mimetype": "text/x-python",
   "name": "python",
   "nbconvert_exporter": "python",
   "pygments_lexer": "ipython3",
   "version": "3.7.1"
  }
 },
 "nbformat": 4,
 "nbformat_minor": 2
}
